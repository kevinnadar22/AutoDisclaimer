{
 "cells": [
  {
   "cell_type": "code",
   "execution_count": 1,
   "metadata": {},
   "outputs": [],
   "source": [
    "import moondream as md\n",
    "from PIL import Image"
   ]
  },
  {
   "cell_type": "code",
   "execution_count": 2,
   "metadata": {},
   "outputs": [],
   "source": [
    "model = md.vl(model=\"moondream-0_5b-int8.mf\")"
   ]
  },
  {
   "cell_type": "code",
   "execution_count": 9,
   "metadata": {},
   "outputs": [
    {
     "name": "stdout",
     "output_type": "stream",
     "text": [
      "Answer:  []\n"
     ]
    }
   ],
   "source": [
    "# process the image\n",
    "image = Image.open(\"/Users/kevinnadar/Programming/Experiments/Auto Disclaimer Adder/chunk_10_collage.jpg\")\n",
    "encoded = model.encode_image(image)\n",
    "\n",
    "# query the image\n",
    "result = model.detect(encoded, \"smoking\")\n",
    "print(\"Answer: \", result[\"objects\"])\n"
   ]
  }
 ],
 "metadata": {
  "kernelspec": {
   "display_name": "Python 3",
   "language": "python",
   "name": "python3"
  },
  "language_info": {
   "codemirror_mode": {
    "name": "ipython",
    "version": 3
   },
   "file_extension": ".py",
   "mimetype": "text/x-python",
   "name": "python",
   "nbconvert_exporter": "python",
   "pygments_lexer": "ipython3",
   "version": "3.10.6"
  }
 },
 "nbformat": 4,
 "nbformat_minor": 2
}
